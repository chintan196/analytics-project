{
 "cells": [
  {
   "cell_type": "markdown",
   "id": "667fd982",
   "metadata": {},
   "source": [
    "# Data Overview"
   ]
  },
  {
   "cell_type": "code",
   "execution_count": null,
   "id": "acdaa12d",
   "metadata": {},
   "outputs": [],
   "source": [
    "pwd"
   ]
  },
  {
   "cell_type": "code",
   "execution_count": null,
   "id": "3c15fc6a",
   "metadata": {},
   "outputs": [],
   "source": [
    "import pandas as pd"
   ]
  },
  {
   "cell_type": "code",
   "execution_count": null,
   "id": "7d878370",
   "metadata": {},
   "outputs": [],
   "source": [
    "# Read the data from file\n",
    "df = pd.read_csv(\"dataset\\\\Car_Prices_Poland_Kaggle.csv\")"
   ]
  },
  {
   "cell_type": "code",
   "execution_count": null,
   "id": "b6d45039",
   "metadata": {},
   "outputs": [],
   "source": [
    "# Preview top 5 rows\n",
    "print(df.head())"
   ]
  },
  {
   "cell_type": "code",
   "execution_count": null,
   "id": "ffd72471",
   "metadata": {},
   "outputs": [],
   "source": [
    "#Lets first understand the basic information about this data\n",
    "df.info()"
   ]
  },
  {
   "cell_type": "code",
   "execution_count": null,
   "id": "1c9ad308",
   "metadata": {},
   "outputs": [],
   "source": [
    "df.shape"
   ]
  },
  {
   "cell_type": "markdown",
   "id": "a297da05",
   "metadata": {},
   "source": [
    "# Data Cleaning and Feature Engineering: Categorical Data"
   ]
  },
  {
   "cell_type": "code",
   "execution_count": null,
   "id": "0aa60db8",
   "metadata": {},
   "outputs": [],
   "source": [
    "# List all brands which are operating and selling cars in Polland\n",
    "df['mark'].unique()"
   ]
  },
  {
   "cell_type": "code",
   "execution_count": null,
   "id": "783434cf",
   "metadata": {},
   "outputs": [],
   "source": [
    "# Show average prices of models through out the time, order by high to low price\n",
    "pd.set_option('display.max_rows', None)\n",
    "# Show model wise average prices for a brand through out the time, order by high to low prices\n",
    "df.groupby(['mark','model','fuel'])[['price']].mean()"
   ]
  },
  {
   "cell_type": "code",
   "execution_count": null,
   "id": "56930e9e",
   "metadata": {
    "scrolled": true
   },
   "outputs": [],
   "source": [
    "# Show model wise average prices for a brand for a particular province, order by high to low prices\n",
    "df[(df.mark == 'bmw') & (df.province == 'Podkarpackie')].groupby(['mark','model','fuel'])[['price']].mean().sort_values(['price'], ascending=False)"
   ]
  },
  {
   "cell_type": "code",
   "execution_count": null,
   "id": "d65b885e",
   "metadata": {},
   "outputs": [],
   "source": [
    "# Show brand and model wise total entries we have in our data\n",
    "group_names = df.groupby(['mark', 'model','fuel'])\n",
    "group_names.size()"
   ]
  },
  {
   "cell_type": "code",
   "execution_count": null,
   "id": "4eb1fc39",
   "metadata": {},
   "outputs": [],
   "source": [
    "# Show year wise price deviation in car prices for a particular car model in a selected province\n",
    "subset1 = df[(df.mark == 'opel') & (df.model == 'corsa') & (df.generation_name == 'gen-d-2006-2014') & (df.fuel == 'Gasoline')\n",
    "            & (df.vol_engine == 1229) & (df.province == 'Podkarpackie')]\n",
    "subset2 = subset1.groupby(['mark','model','fuel','year'])[['price']].mean().sort_values(['year'], ascending=True)\n",
    "print(subset2)"
   ]
  },
  {
   "cell_type": "code",
   "execution_count": null,
   "id": "801746da",
   "metadata": {},
   "outputs": [],
   "source": [
    "subset2.shape"
   ]
  },
  {
   "cell_type": "markdown",
   "id": "53bf2827",
   "metadata": {},
   "source": [
    "# Hypothesis "
   ]
  },
  {
   "cell_type": "markdown",
   "id": "d462b139",
   "metadata": {},
   "source": [
    "* With further analysis on this data, we can visualize the data of car prices variation for various fuel type for different provinces across the country.\n",
    "* We can analyze the tneds of car sales and people preferences.\n",
    "* We can perform data science on this data to generate various trends and brand choice preferences of people."
   ]
  }
 ],
 "metadata": {
  "kernelspec": {
   "display_name": "Python 3 (ipykernel)",
   "language": "python",
   "name": "python3"
  },
  "language_info": {
   "codemirror_mode": {
    "name": "ipython",
    "version": 3
   },
   "file_extension": ".py",
   "mimetype": "text/x-python",
   "name": "python",
   "nbconvert_exporter": "python",
   "pygments_lexer": "ipython3",
   "version": "3.9.7"
  }
 },
 "nbformat": 4,
 "nbformat_minor": 5
}
